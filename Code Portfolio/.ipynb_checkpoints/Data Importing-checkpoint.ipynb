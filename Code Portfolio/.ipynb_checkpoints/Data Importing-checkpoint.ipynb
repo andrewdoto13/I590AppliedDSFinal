{
 "cells": [
  {
   "cell_type": "markdown",
   "metadata": {},
   "source": [
    "# Data Importing "
   ]
  },
  {
   "cell_type": "markdown",
   "metadata": {},
   "source": [
    "The code for this template was found on https://s3.amazonaws.com/assets.datacamp.com/blog_assets/Cheat+Sheets/Importing_Data_Python_Cheat_Sheet.pdf and "
   ]
  },
  {
   "cell_type": "code",
   "execution_count": 1,
   "metadata": {},
   "outputs": [],
   "source": [
    "# import numpy and pandas, as this is what you will mostly use to import data\n",
    "import numpy as np\n",
    "import pandas as pd\n",
    "\n",
    "# Importing a simple text file\n",
    "\n",
    "# start by storing the file name in an object\n",
    "fname = 'somefile.txt'\n",
    "# open the file and read it into an object\n",
    "file = open(fname, mode='r')\n",
    "text = file.read()\n",
    "# close the file and then do something with the data\n",
    "file.close()\n",
    "print(text)\n",
    "\n",
    "# Importing a flat file using pandas\n",
    "\n",
    "# start by storing the file name in an object\n",
    "fname = 'somefile.csv'\n",
    "# use this method to read in the data, and here are some optional arguments\n",
    "# nrows - number of rows to read\n",
    "# header - row number to use as col names\n",
    "# sep - the delimiter that is used \n",
    "# na_values - what to use in case of missing values\n",
    "df = pd.read_csv(fname, nrows=5,header=None, sep='\\t', na_values=[\"\"])\n",
    "# check the data\n",
    "df.head()\n",
    "df.tail()\n",
    "df.columns\n",
    "\n",
    "# Importing an excel file using pandas\n",
    "\n",
    "# Assign spreadsheet filename: file\n",
    "fname = 'battledeath.xlsx'\n",
    "\n",
    "# Load spreadsheet: xl\n",
    "xl = pd.ExcelFile(fname)\n",
    "\n",
    "# Print sheet names\n",
    "print(xl.sheet_names)"
   ]
  },
  {
   "cell_type": "code",
   "execution_count": null,
   "metadata": {},
   "outputs": [],
   "source": []
  }
 ],
 "metadata": {
  "kernelspec": {
   "display_name": "Python 3",
   "language": "python",
   "name": "python3"
  },
  "language_info": {
   "codemirror_mode": {
    "name": "ipython",
    "version": 3
   },
   "file_extension": ".py",
   "mimetype": "text/x-python",
   "name": "python",
   "nbconvert_exporter": "python",
   "pygments_lexer": "ipython3",
   "version": "3.6.8"
  }
 },
 "nbformat": 4,
 "nbformat_minor": 2
}
